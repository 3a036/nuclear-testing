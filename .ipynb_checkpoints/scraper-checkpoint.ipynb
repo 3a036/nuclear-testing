{
 "cells": [
  {
   "cell_type": "code",
   "execution_count": 16,
   "metadata": {
    "collapsed": true
   },
   "outputs": [],
   "source": [
    "import requests\n",
    "from lxml import html"
   ]
  },
  {
   "cell_type": "code",
   "execution_count": 81,
   "metadata": {},
   "outputs": [],
   "source": [
    "DATABASE_URL = \"http://www.ga.gov.au/oracle/nuclear-explosion-query.jsp\"\n",
    "\n",
    "COUNTRIES = [\n",
    "    \"CHN\",\n",
    "    \"FRA\",\n",
    "    \"IND\",\n",
    "    \"PAK\",\n",
    "    \"NK\",\n",
    "    \"SOV\",\n",
    "    \"GBR\",\n",
    "    \"USA\",\n",
    "    \"UNK\"\n",
    "]\n",
    "\n",
    "tests = []\n",
    "\n",
    "for country in COUNTRIES:\n",
    "    response = requests.post(DATABASE_URL, {'testby': country, 'start_date': 1945, 'end_date': 2007})\n",
    "    tree = html.fromstring(response.content.decode(\"utf-8\"))\n",
    "    \n",
    "    # One li per test\n",
    "    for li in tree.cssselect('ol li'):\n",
    "        test = {'country': country}\n",
    "        for line in li.xpath('text()'):\n",
    "            if \":\" not in line:\n",
    "                field_name = \"date\"\n",
    "                field_value = line\n",
    "            else:\n",
    "                field_name, field_value = [x.strip() for x in line.split(\":\", maxsplit=1)]\n",
    "            test[field_name.lower()] = \" \".join(field_value.split())  # split-join to remove extra whitespace\n",
    "        \n",
    "        tests.append(test)"
   ]
  },
  {
   "cell_type": "code",
   "execution_count": 83,
   "metadata": {},
   "outputs": [
    {
     "data": {
      "text/plain": [
       "2065"
      ]
     },
     "execution_count": 83,
     "metadata": {},
     "output_type": "execute_result"
    }
   ],
   "source": [
    "len(tests)"
   ]
  },
  {
   "cell_type": "code",
   "execution_count": 88,
   "metadata": {},
   "outputs": [
    {
     "data": {
      "text/plain": [
       "{'body wave magnitude': '4.83',\n",
       " 'country': 'FRA',\n",
       " 'date': '03/06/1985',\n",
       " 'name': 'Talaos',\n",
       " 'original time': '17:30:00 (Universal Coordinated Time)',\n",
       " 'site': 'Tuamotu Archipelago',\n",
       " 'type': 'Underground'}"
      ]
     },
     "execution_count": 88,
     "metadata": {},
     "output_type": "execute_result"
    }
   ],
   "source": [
    "tests[100]"
   ]
  },
  {
   "cell_type": "code",
   "execution_count": 87,
   "metadata": {
    "collapsed": true
   },
   "outputs": [],
   "source": [
    "import json\n",
    "json.dump(tests, open(\"nuclear_tests.json\", \"w\"))"
   ]
  },
  {
   "cell_type": "code",
   "execution_count": null,
   "metadata": {
    "collapsed": true
   },
   "outputs": [],
   "source": []
  }
 ],
 "metadata": {
  "kernelspec": {
   "display_name": "Python 3",
   "language": "python",
   "name": "python3"
  },
  "language_info": {
   "codemirror_mode": {
    "name": "ipython",
    "version": 3
   },
   "file_extension": ".py",
   "mimetype": "text/x-python",
   "name": "python",
   "nbconvert_exporter": "python",
   "pygments_lexer": "ipython3",
   "version": "3.5.2"
  }
 },
 "nbformat": 4,
 "nbformat_minor": 2
}
