{
 "cells": [
  {
   "cell_type": "code",
   "execution_count": 1,
   "metadata": {
    "collapsed": true
   },
   "outputs": [],
   "source": [
    "import pandas as pd\n",
    "import json\n",
    "from math import radians, cos, sin, asin, sqrt\n",
    "import math\n",
    "import numpy as np\n",
    "from geopy.geocoders import Nominatim"
   ]
  },
  {
   "cell_type": "code",
   "execution_count": 2,
   "metadata": {},
   "outputs": [
    {
     "name": "stdout",
     "output_type": "stream",
     "text": [
      "2065\n"
     ]
    }
   ],
   "source": [
    "# import the data in a dataframe\n",
    "json_data=open('nuclear_tests1.json').read()\n",
    "data = json.loads(json_data)\n",
    "df = pd.DataFrame(data)\n",
    "df.head()\n",
    "print(len(df))"
   ]
  },
  {
   "cell_type": "code",
   "execution_count": 3,
   "metadata": {},
   "outputs": [
    {
     "name": "stdout",
     "output_type": "stream",
     "text": [
      "1211 / 2065 entries do not have coordinates\n",
      "119 / 2065 entries do not have a site\n",
      "There are 36 distinct sites\n"
     ]
    }
   ],
   "source": [
    "print(str(len(df[pd.isnull(df['decimal latitude/longitude'])])) + ' / ' + str(len(df)) + ' entries do not have coordinates')\n",
    "print(str(len(df[df['site'] == ''])) + ' / ' + str(len(df)) + ' entries do not have a site')\n",
    "distinct_sites = set(df['site'])\n",
    "print('There are ' + str(len(distinct_sites)) + ' distinct sites')"
   ]
  },
  {
   "cell_type": "code",
   "execution_count": 4,
   "metadata": {},
   "outputs": [
    {
     "data": {
      "text/html": [
       "<div>\n",
       "<style>\n",
       "    .dataframe thead tr:only-child th {\n",
       "        text-align: right;\n",
       "    }\n",
       "\n",
       "    .dataframe thead th {\n",
       "        text-align: left;\n",
       "    }\n",
       "\n",
       "    .dataframe tbody tr th {\n",
       "        vertical-align: top;\n",
       "    }\n",
       "</style>\n",
       "<table border=\"1\" class=\"dataframe\">\n",
       "  <thead>\n",
       "    <tr style=\"text-align: right;\">\n",
       "      <th></th>\n",
       "      <th>body wave magnitude</th>\n",
       "      <th>country</th>\n",
       "      <th>date</th>\n",
       "      <th>decimal latitude/longitude</th>\n",
       "      <th>name</th>\n",
       "      <th>original time</th>\n",
       "      <th>site</th>\n",
       "      <th>type</th>\n",
       "      <th>yield</th>\n",
       "    </tr>\n",
       "  </thead>\n",
       "  <tbody>\n",
       "    <tr>\n",
       "      <th>2064</th>\n",
       "      <td>NaN</td>\n",
       "      <td>UNK</td>\n",
       "      <td>22/09/1979</td>\n",
       "      <td>NaN</td>\n",
       "      <td>-</td>\n",
       "      <td>03:00:00 (Universal Coordinated Time)</td>\n",
       "      <td></td>\n",
       "      <td>Atmospheric</td>\n",
       "      <td>NaN</td>\n",
       "    </tr>\n",
       "  </tbody>\n",
       "</table>\n",
       "</div>"
      ],
      "text/plain": [
       "     body wave magnitude country        date decimal latitude/longitude name  \\\n",
       "2064                 NaN     UNK  22/09/1979                        NaN    -   \n",
       "\n",
       "                              original time site         type yield  \n",
       "2064  03:00:00 (Universal Coordinated Time)       Atmospheric   NaN  "
      ]
     },
     "execution_count": 4,
     "metadata": {},
     "output_type": "execute_result"
    }
   ],
   "source": [
    "# Only one entry has neither a site nor coordinates:\n",
    "df[(pd.isnull(df['decimal latitude/longitude'])) & (df['site'] == '')]"
   ]
  },
  {
   "cell_type": "markdown",
   "metadata": {},
   "source": [
    "After some research on the date, it is the \"Vela Incident\" (see : https://en.wikipedia.org/wiki/Vela_Incident)\n",
    "We then add a position to it : lat: -47, long: 40"
   ]
  },
  {
   "cell_type": "code",
   "execution_count": 5,
   "metadata": {
    "collapsed": true
   },
   "outputs": [],
   "source": [
    "df.loc[(pd.isnull(df['decimal latitude/longitude'])) & (df['site'] == ''), 'decimal latitude/longitude'] = '-47/40'"
   ]
  },
  {
   "cell_type": "code",
   "execution_count": 6,
   "metadata": {
    "collapsed": true
   },
   "outputs": [],
   "source": [
    "# We group the dataframe by sites and export the coordinates of each event in a distinct list for each site\n",
    "# the goal is to see events on a same site can have very different coordinates or not.\n",
    "coord_lists = df.fillna('-').groupby('site')['decimal latitude/longitude'].apply(list)"
   ]
  },
  {
   "cell_type": "code",
   "execution_count": 7,
   "metadata": {
    "collapsed": true
   },
   "outputs": [],
   "source": [
    "def haversine(lon1, lat1, lon2, lat2):\n",
    "    \"\"\"\n",
    "    Calculate the great circle distance between two points \n",
    "    on the earth (specified in decimal degrees)\n",
    "    \"\"\"\n",
    "    # convert decimal degrees to radians \n",
    "    lon1, lat1, lon2, lat2 = map(radians, [lon1, lat1, lon2, lat2])\n",
    "\n",
    "    # haversine formula \n",
    "    dlon = lon2 - lon1 \n",
    "    dlat = lat2 - lat1 \n",
    "    a = sin(dlat/2)**2 + cos(lat1) * cos(lat2) * sin(dlon/2)**2\n",
    "    c = 2 * asin(sqrt(a)) \n",
    "    r = 6371 # Radius of earth in kilometers. Use 3956 for miles\n",
    "    return c * r"
   ]
  },
  {
   "cell_type": "code",
   "execution_count": 8,
   "metadata": {
    "scrolled": true
   },
   "outputs": [
    {
     "data": {
      "text/html": [
       "<div>\n",
       "<style>\n",
       "    .dataframe thead tr:only-child th {\n",
       "        text-align: right;\n",
       "    }\n",
       "\n",
       "    .dataframe thead th {\n",
       "        text-align: left;\n",
       "    }\n",
       "\n",
       "    .dataframe tbody tr th {\n",
       "        vertical-align: top;\n",
       "    }\n",
       "</style>\n",
       "<table border=\"1\" class=\"dataframe\">\n",
       "  <thead>\n",
       "    <tr style=\"text-align: right;\">\n",
       "      <th></th>\n",
       "      <th>body wave magnitude</th>\n",
       "      <th>country</th>\n",
       "      <th>date</th>\n",
       "      <th>decimal latitude/longitude</th>\n",
       "      <th>name</th>\n",
       "      <th>original time</th>\n",
       "      <th>site</th>\n",
       "      <th>type</th>\n",
       "      <th>yield</th>\n",
       "    </tr>\n",
       "  </thead>\n",
       "  <tbody>\n",
       "    <tr>\n",
       "      <th>0</th>\n",
       "      <td>4.9</td>\n",
       "      <td>CHN</td>\n",
       "      <td>29/07/1996</td>\n",
       "      <td>41.82/88.42</td>\n",
       "      <td>-</td>\n",
       "      <td>01:48:57 (Universal Coordinated Time)</td>\n",
       "      <td>Lop Nor</td>\n",
       "      <td>Underground</td>\n",
       "      <td>NaN</td>\n",
       "    </tr>\n",
       "    <tr>\n",
       "      <th>1</th>\n",
       "      <td>5.9</td>\n",
       "      <td>CHN</td>\n",
       "      <td>08/06/1996</td>\n",
       "      <td>41.66/88.69</td>\n",
       "      <td>-</td>\n",
       "      <td>02:55:58 (Universal Coordinated Time)</td>\n",
       "      <td>Lop Nor</td>\n",
       "      <td>Underground</td>\n",
       "      <td>NaN</td>\n",
       "    </tr>\n",
       "    <tr>\n",
       "      <th>2</th>\n",
       "      <td>6</td>\n",
       "      <td>CHN</td>\n",
       "      <td>17/08/1995</td>\n",
       "      <td>41.56/88.8</td>\n",
       "      <td>-</td>\n",
       "      <td>00:59:57 (Universal Coordinated Time)</td>\n",
       "      <td>Lop Nor</td>\n",
       "      <td>Underground</td>\n",
       "      <td>NaN</td>\n",
       "    </tr>\n",
       "    <tr>\n",
       "      <th>3</th>\n",
       "      <td>6.1</td>\n",
       "      <td>CHN</td>\n",
       "      <td>15/05/1995</td>\n",
       "      <td>41.6/88.82</td>\n",
       "      <td>-</td>\n",
       "      <td>04:05:57 (Universal Coordinated Time)</td>\n",
       "      <td>Lop Nor</td>\n",
       "      <td>Underground</td>\n",
       "      <td>NaN</td>\n",
       "    </tr>\n",
       "    <tr>\n",
       "      <th>4</th>\n",
       "      <td>6</td>\n",
       "      <td>CHN</td>\n",
       "      <td>07/10/1994</td>\n",
       "      <td>41.66/88.75</td>\n",
       "      <td>-</td>\n",
       "      <td>03:25:58 (Universal Coordinated Time)</td>\n",
       "      <td>Lop Nor</td>\n",
       "      <td>Underground</td>\n",
       "      <td>NaN</td>\n",
       "    </tr>\n",
       "  </tbody>\n",
       "</table>\n",
       "</div>"
      ],
      "text/plain": [
       "  body wave magnitude country        date decimal latitude/longitude name  \\\n",
       "0                 4.9     CHN  29/07/1996                41.82/88.42    -   \n",
       "1                 5.9     CHN  08/06/1996                41.66/88.69    -   \n",
       "2                   6     CHN  17/08/1995                 41.56/88.8    -   \n",
       "3                 6.1     CHN  15/05/1995                 41.6/88.82    -   \n",
       "4                   6     CHN  07/10/1994                41.66/88.75    -   \n",
       "\n",
       "                           original time     site         type yield  \n",
       "0  01:48:57 (Universal Coordinated Time)  Lop Nor  Underground   NaN  \n",
       "1  02:55:58 (Universal Coordinated Time)  Lop Nor  Underground   NaN  \n",
       "2  00:59:57 (Universal Coordinated Time)  Lop Nor  Underground   NaN  \n",
       "3  04:05:57 (Universal Coordinated Time)  Lop Nor  Underground   NaN  \n",
       "4  03:25:58 (Universal Coordinated Time)  Lop Nor  Underground   NaN  "
      ]
     },
     "execution_count": 8,
     "metadata": {},
     "output_type": "execute_result"
    }
   ],
   "source": [
    "df[pd.notnull(df['decimal latitude/longitude'])].head()"
   ]
  },
  {
   "cell_type": "code",
   "execution_count": 9,
   "metadata": {},
   "outputs": [
    {
     "name": "stdout",
     "output_type": "stream",
     "text": [
      "\n",
      "1739.12598174\n",
      "---------\n",
      "Amchitka, Alaska\n",
      "4.78866535241\n",
      "---------\n",
      "Bikini Is (USA)\n",
      "32.7202064536\n",
      "---------\n",
      "Carlsnad, New Mexico (USA)\n",
      "No distances\n",
      "---------\n",
      "Central Nevada\n",
      "No distances\n",
      "---------\n",
      "Christmas Island\n",
      "No distances\n",
      "---------\n",
      "Christmas Island (USA)\n",
      "No distances\n",
      "---------\n",
      "Ekker, Algeria\n",
      "1.42693253151\n",
      "---------\n",
      "Emu Fields, Australia\n",
      "No distances\n",
      "---------\n",
      "Enewetak (USA)\n",
      "53.7383584401\n",
      "---------\n",
      "Fallon, Nevada\n",
      "No distances\n",
      "---------\n",
      "Farmington, New Mexico\n",
      "No distances\n",
      "---------\n",
      "Grand Valley, Colorado\n",
      "No distances\n",
      "---------\n",
      "Hattiesburg, Mississippi\n",
      "No distances\n",
      "---------\n",
      "Hiroshima, Japan\n",
      "0.0\n",
      "---------\n",
      "Johnston Island\n",
      "No distances\n",
      "---------\n",
      "Kharan\n",
      "0.0\n",
      "---------\n",
      "Lop Nor\n",
      "54.0866798425\n",
      "---------\n",
      "Maralinga\n",
      "No distances\n",
      "---------\n",
      "Missile Testing Range\n",
      "138.40896036\n",
      "---------\n",
      "Monte Bello Is\n",
      "No distances\n",
      "---------\n",
      "NTS\n",
      "No distances\n",
      "---------\n",
      "Nagasaki, Japan\n",
      "0.0\n",
      "---------\n",
      "Nellis Air Force Range\n",
      "No distances\n",
      "---------\n",
      "Nevada Test Site\n",
      "5.55569994183\n",
      "---------\n",
      "New Mexico (USA)\n",
      "No distances\n",
      "---------\n",
      "Novaya Zemlya Test Site\n",
      "71.3839979916\n",
      "---------\n",
      "Pacific\n",
      "0.0\n",
      "---------\n",
      "Pokharan\n",
      "1.8872186207\n",
      "---------\n",
      "Punggye\n",
      "0.0\n",
      "---------\n",
      "Ras Koh Mountains\n",
      "0.0\n",
      "---------\n",
      "Reggan,Algeria\n",
      "No distances\n",
      "---------\n",
      "Rifle, Colorado\n",
      "No distances\n",
      "---------\n",
      "Semipalatinsk\n",
      "52.5944155135\n",
      "---------\n",
      "South Atlantic\n",
      "No distances\n",
      "---------\n",
      "Tuamotu Archipelago\n",
      "No distances\n",
      "---------\n"
     ]
    }
   ],
   "source": [
    "no_coord_sites = []\n",
    "coord_sites = dict()\n",
    "for i in range(0, len(coord_lists)):\n",
    "    dists = []\n",
    "    lats = []\n",
    "    longs = []\n",
    "    lat0 = \"\"\n",
    "    long0 = \"\"\n",
    "    print(coord_lists.index[i])\n",
    "    for event in coord_lists[i]:\n",
    "        if('/' in str(event)):\n",
    "            lat0, long0 = event.split('/')\n",
    "            break\n",
    "    if (lat0!=\"\" and long0!=\"\"):\n",
    "        for event in coord_lists[i]:\n",
    "            event = str(event)\n",
    "            if('/' in event):\n",
    "                lat, long = event.split('/')\n",
    "                dists.append(haversine(float(long0), float(lat0), float(long), float(lat)))\n",
    "                lats.append(float(lat))\n",
    "                longs.append(float(long))\n",
    "        \n",
    "        print(np.mean(dists))\n",
    "        meanlat = np.mean(lats)\n",
    "        meanlong = np.mean(longs)\n",
    "        coord_sites[coord_lists.index[i]]=str(meanlat)+\"/\"+str(meanlong)\n",
    "    else:\n",
    "        no_coord_sites.append(coord_lists.index[i])\n",
    "        print(\"No distances\")\n",
    "    print(\"---------\")\n"
   ]
  },
  {
   "cell_type": "code",
   "execution_count": 10,
   "metadata": {
    "collapsed": true
   },
   "outputs": [],
   "source": [
    "# As we can see, some events have a site but no location. "
   ]
  },
  {
   "cell_type": "code",
   "execution_count": 11,
   "metadata": {
    "collapsed": true
   },
   "outputs": [],
   "source": [
    "#first make a dict site => coords (from geopy)\n",
    "if 0:\n",
    "    geolocator = Nominatim()\n",
    "    geopy_site_coords = dict()\n",
    "    for site in no_coord_sites:\n",
    "        location = geolocator.geocode(site)\n",
    "        if location is not None:\n",
    "            coord = str(location.latitude) + \"/\" + str(location.longitude)\n",
    "            #print(site)\n",
    "            #print(coord)\n",
    "            geopy_site_coords[site] = coord\n",
    "        else:\n",
    "            print(\"coordinates not found for site \" + str(site))"
   ]
  },
  {
   "cell_type": "markdown",
   "metadata": {},
   "source": [
    "Geopy seems to give some buggy response, we do it by hand"
   ]
  },
  {
   "cell_type": "code",
   "execution_count": 12,
   "metadata": {},
   "outputs": [
    {
     "name": "stdout",
     "output_type": "stream",
     "text": [
      "Carlsnad, New Mexico (USA)\n",
      "Central Nevada\n",
      "Christmas Island\n",
      "Christmas Island (USA)\n",
      "Emu Fields, Australia\n",
      "Fallon, Nevada\n",
      "Farmington, New Mexico\n",
      "Grand Valley, Colorado\n",
      "Hattiesburg, Mississippi\n",
      "Johnston Island\n",
      "Maralinga\n",
      "Monte Bello Is\n",
      "NTS\n",
      "Nellis Air Force Range\n",
      "New Mexico (USA)\n",
      "Reggan,Algeria\n",
      "Rifle, Colorado\n",
      "South Atlantic\n",
      "Tuamotu Archipelago\n"
     ]
    }
   ],
   "source": [
    "for site in no_coord_sites:\n",
    "    print(site)"
   ]
  },
  {
   "cell_type": "code",
   "execution_count": 13,
   "metadata": {
    "collapsed": true
   },
   "outputs": [],
   "source": [
    "if 0:\n",
    "    print(len(no_coord_sites))\n",
    "    print(len(geopy_site_coords))"
   ]
  },
  {
   "cell_type": "code",
   "execution_count": 14,
   "metadata": {
    "collapsed": true
   },
   "outputs": [],
   "source": [
    "if 0 :\n",
    "    # For the 3 other position we have to do it by hand (using https://www.latlong.net/)\n",
    "    geopy_site_coords['Carlsnad, New Mexico (USA)']=\"32.420674/-104.228837\"\n",
    "    geopy_site_coords['Emu Fields, Australia']=\"-28.698333/132.371389\"\n",
    "    geopy_site_coords['Nellis Air Force Range']=\"36.308119/-115.049367\""
   ]
  },
  {
   "cell_type": "code",
   "execution_count": 15,
   "metadata": {
    "collapsed": true
   },
   "outputs": [],
   "source": [
    "#we have to do it by hand (using https://www.latlong.net/)\n",
    "hand_site_coords = dict()\n",
    "hand_site_coords['Carlsnad, New Mexico (USA)']=\"32.420674/-104.228837\"\n",
    "hand_site_coords['Central Nevada']=\"38.060229/-117.220892\"\n",
    "hand_site_coords['Christmas Island']=\"-10.447525/105.690449\"\n",
    "hand_site_coords['Christmas Island (USA)']=\"-10.451208/105.688545\"\n",
    "hand_site_coords['Emu Fields, Australia']=\"-28.698333/132.371389\"\n",
    "hand_site_coords['Fallon, Nevada']=\"39.474869/-118.777041\"\n",
    "hand_site_coords['Farmington, New Mexico']=\"36.728058/-108.218686\"\n",
    "hand_site_coords['Grand Valley, Colorado']=\"40.072738/-106.064018\"\n",
    "hand_site_coords['Hattiesburg, Mississippi']=\"31.327119/-89.290339\"\n",
    "hand_site_coords['Johnston Island']=\"16.729503/-169.533648\"\n",
    "hand_site_coords['Maralinga']=\"-30.163170/131.575195\"\n",
    "hand_site_coords['Monte Bello Is']=\"-20.439168/115.556260\"\n",
    "hand_site_coords['NTS']=\"37.116449/-116.188871\"\n",
    "hand_site_coords['Nellis Air Force Range']=\"36.308119/-115.049367\"\n",
    "hand_site_coords['New Mexico (USA)']=\"34.519940/-105.870090\"\n",
    "hand_site_coords['Reggan,Algeria']=\"25.275963/-1.520862\"\n",
    "hand_site_coords['Rifle, Colorado']=\"39.534702/-107.783120\"\n",
    "hand_site_coords['South Atlantic']=\"-47/40\"\n",
    "hand_site_coords['Tuamotu Archipelago']=\"-19.000000/-142.000000\"\n",
    "hand_site_coords['Nellis Air Force Range']=\"36.308119/-115.049367\""
   ]
  },
  {
   "cell_type": "code",
   "execution_count": 16,
   "metadata": {
    "collapsed": true
   },
   "outputs": [],
   "source": [
    "for i in df.index:\n",
    "    if('/' not in str(df['decimal latitude/longitude'][i])):\n",
    "        if (df['site'][i] in hand_site_coords.keys()):\n",
    "            df['decimal latitude/longitude'][i] = hand_site_coords[df['site'][i]]"
   ]
  },
  {
   "cell_type": "code",
   "execution_count": 17,
   "metadata": {},
   "outputs": [
    {
     "name": "stdout",
     "output_type": "stream",
     "text": [
      "927 / 2065 entries do not have coordinates\n"
     ]
    }
   ],
   "source": [
    "print(str(len(df[pd.isnull(df['decimal latitude/longitude'])])) + ' / ' + str(len(df)) + ' entries do not have coordinates')"
   ]
  },
  {
   "cell_type": "code",
   "execution_count": 18,
   "metadata": {},
   "outputs": [
    {
     "data": {
      "text/html": [
       "<div>\n",
       "<style>\n",
       "    .dataframe thead tr:only-child th {\n",
       "        text-align: right;\n",
       "    }\n",
       "\n",
       "    .dataframe thead th {\n",
       "        text-align: left;\n",
       "    }\n",
       "\n",
       "    .dataframe tbody tr th {\n",
       "        vertical-align: top;\n",
       "    }\n",
       "</style>\n",
       "<table border=\"1\" class=\"dataframe\">\n",
       "  <thead>\n",
       "    <tr style=\"text-align: right;\">\n",
       "      <th></th>\n",
       "      <th>body wave magnitude</th>\n",
       "      <th>country</th>\n",
       "      <th>date</th>\n",
       "      <th>decimal latitude/longitude</th>\n",
       "      <th>name</th>\n",
       "      <th>original time</th>\n",
       "      <th>site</th>\n",
       "      <th>type</th>\n",
       "      <th>yield</th>\n",
       "    </tr>\n",
       "  </thead>\n",
       "  <tbody>\n",
       "    <tr>\n",
       "      <th>1008</th>\n",
       "      <td>4.4</td>\n",
       "      <td>USA</td>\n",
       "      <td>23/09/1992</td>\n",
       "      <td>NaN</td>\n",
       "      <td>DIVIDER</td>\n",
       "      <td>15:04:00 (Universal Coordinated Time)</td>\n",
       "      <td>Nevada Test Site</td>\n",
       "      <td>Underground</td>\n",
       "      <td>NaN</td>\n",
       "    </tr>\n",
       "    <tr>\n",
       "      <th>1009</th>\n",
       "      <td>4.4</td>\n",
       "      <td>USA</td>\n",
       "      <td>18/09/1992</td>\n",
       "      <td>NaN</td>\n",
       "      <td>HUNTERS TROPHY</td>\n",
       "      <td>17:00:00 (Universal Coordinated Time)</td>\n",
       "      <td>Nevada Test Site</td>\n",
       "      <td>Underground</td>\n",
       "      <td>NaN</td>\n",
       "    </tr>\n",
       "    <tr>\n",
       "      <th>1010</th>\n",
       "      <td>NaN</td>\n",
       "      <td>USA</td>\n",
       "      <td>23/06/1992</td>\n",
       "      <td>NaN</td>\n",
       "      <td>GALENA-YELLOW</td>\n",
       "      <td>15:00:00 (Universal Coordinated Time)</td>\n",
       "      <td>Nevada Test Site</td>\n",
       "      <td>Underground</td>\n",
       "      <td>NaN</td>\n",
       "    </tr>\n",
       "    <tr>\n",
       "      <th>1011</th>\n",
       "      <td>NaN</td>\n",
       "      <td>USA</td>\n",
       "      <td>19/06/1992</td>\n",
       "      <td>NaN</td>\n",
       "      <td>VICTORIA</td>\n",
       "      <td>16:45:00 (Universal Coordinated Time)</td>\n",
       "      <td>Nevada Test Site</td>\n",
       "      <td>Underground</td>\n",
       "      <td>NaN</td>\n",
       "    </tr>\n",
       "    <tr>\n",
       "      <th>1012</th>\n",
       "      <td>NaN</td>\n",
       "      <td>USA</td>\n",
       "      <td>30/04/1992</td>\n",
       "      <td>NaN</td>\n",
       "      <td>DIAMOND FORTUNE</td>\n",
       "      <td>16:30:00 (Universal Coordinated Time)</td>\n",
       "      <td>Nevada Test Site</td>\n",
       "      <td>Underground</td>\n",
       "      <td>NaN</td>\n",
       "    </tr>\n",
       "  </tbody>\n",
       "</table>\n",
       "</div>"
      ],
      "text/plain": [
       "     body wave magnitude country        date decimal latitude/longitude  \\\n",
       "1008                 4.4     USA  23/09/1992                        NaN   \n",
       "1009                 4.4     USA  18/09/1992                        NaN   \n",
       "1010                 NaN     USA  23/06/1992                        NaN   \n",
       "1011                 NaN     USA  19/06/1992                        NaN   \n",
       "1012                 NaN     USA  30/04/1992                        NaN   \n",
       "\n",
       "                 name                          original time  \\\n",
       "1008          DIVIDER  15:04:00 (Universal Coordinated Time)   \n",
       "1009   HUNTERS TROPHY  17:00:00 (Universal Coordinated Time)   \n",
       "1010    GALENA-YELLOW  15:00:00 (Universal Coordinated Time)   \n",
       "1011         VICTORIA  16:45:00 (Universal Coordinated Time)   \n",
       "1012  DIAMOND FORTUNE  16:30:00 (Universal Coordinated Time)   \n",
       "\n",
       "                  site         type yield  \n",
       "1008  Nevada Test Site  Underground   NaN  \n",
       "1009  Nevada Test Site  Underground   NaN  \n",
       "1010  Nevada Test Site  Underground   NaN  \n",
       "1011  Nevada Test Site  Underground   NaN  \n",
       "1012  Nevada Test Site  Underground   NaN  "
      ]
     },
     "execution_count": 18,
     "metadata": {},
     "output_type": "execute_result"
    }
   ],
   "source": [
    "df[pd.isnull(df['decimal latitude/longitude'])].head()"
   ]
  },
  {
   "cell_type": "code",
   "execution_count": 19,
   "metadata": {
    "collapsed": true
   },
   "outputs": [],
   "source": [
    "# Now we need to use the informations we get for each site in our data and use it to extrapolate the location of the \n",
    "for i in df.index:\n",
    "    if('/' not in str(df['decimal latitude/longitude'][i])):\n",
    "        if (df['site'][i] in coord_sites.keys()):\n",
    "            df['decimal latitude/longitude'][i] = coord_sites[df['site'][i]]"
   ]
  },
  {
   "cell_type": "code",
   "execution_count": 20,
   "metadata": {},
   "outputs": [
    {
     "name": "stdout",
     "output_type": "stream",
     "text": [
      "0 / 2065 entries do not have coordinates\n"
     ]
    }
   ],
   "source": [
    "print(str(len(df[pd.isnull(df['decimal latitude/longitude'])])) + ' / ' + str(len(df)) + ' entries do not have coordinates')"
   ]
  },
  {
   "cell_type": "code",
   "execution_count": 21,
   "metadata": {},
   "outputs": [
    {
     "data": {
      "text/html": [
       "<div>\n",
       "<style>\n",
       "    .dataframe thead tr:only-child th {\n",
       "        text-align: right;\n",
       "    }\n",
       "\n",
       "    .dataframe thead th {\n",
       "        text-align: left;\n",
       "    }\n",
       "\n",
       "    .dataframe tbody tr th {\n",
       "        vertical-align: top;\n",
       "    }\n",
       "</style>\n",
       "<table border=\"1\" class=\"dataframe\">\n",
       "  <thead>\n",
       "    <tr style=\"text-align: right;\">\n",
       "      <th></th>\n",
       "      <th>body wave magnitude</th>\n",
       "      <th>country</th>\n",
       "      <th>date</th>\n",
       "      <th>decimal latitude/longitude</th>\n",
       "      <th>name</th>\n",
       "      <th>original time</th>\n",
       "      <th>site</th>\n",
       "      <th>type</th>\n",
       "      <th>yield</th>\n",
       "    </tr>\n",
       "  </thead>\n",
       "  <tbody>\n",
       "  </tbody>\n",
       "</table>\n",
       "</div>"
      ],
      "text/plain": [
       "Empty DataFrame\n",
       "Columns: [body wave magnitude, country, date, decimal latitude/longitude, name, original time, site, type, yield]\n",
       "Index: []"
      ]
     },
     "execution_count": 21,
     "metadata": {},
     "output_type": "execute_result"
    }
   ],
   "source": [
    "# We now have coordinates for every item in our dataframe\n",
    "df[pd.isnull(df['decimal latitude/longitude'])].head()"
   ]
  },
  {
   "cell_type": "code",
   "execution_count": 22,
   "metadata": {
    "collapsed": true
   },
   "outputs": [],
   "source": [
    "df_selected = df[['body wave magnitude', 'country', 'date', 'decimal latitude/longitude', 'name', 'site', 'type']]"
   ]
  },
  {
   "cell_type": "code",
   "execution_count": 23,
   "metadata": {},
   "outputs": [
    {
     "name": "stderr",
     "output_type": "stream",
     "text": [
      "C:\\Users\\Alain\\Anaconda3\\lib\\site-packages\\ipykernel_launcher.py:1: SettingWithCopyWarning: \n",
      "A value is trying to be set on a copy of a slice from a DataFrame.\n",
      "Try using .loc[row_indexer,col_indexer] = value instead\n",
      "\n",
      "See the caveats in the documentation: http://pandas.pydata.org/pandas-docs/stable/indexing.html#indexing-view-versus-copy\n",
      "  \"\"\"Entry point for launching an IPython kernel.\n"
     ]
    }
   ],
   "source": [
    "df_selected['lat'], df_selected['lng'] = df['decimal latitude/longitude'].str.split('/', 1).str"
   ]
  },
  {
   "cell_type": "code",
   "execution_count": 24,
   "metadata": {
    "collapsed": true
   },
   "outputs": [],
   "source": [
    "df_selected.drop('decimal latitude/longitude', axis=1, inplace=True)"
   ]
  },
  {
   "cell_type": "code",
   "execution_count": 25,
   "metadata": {
    "collapsed": true
   },
   "outputs": [],
   "source": [
    "df_selected.columns = ['magnitude', 'country', 'date', 'name', 'site', 'type', 'lat','lng']"
   ]
  },
  {
   "cell_type": "code",
   "execution_count": 26,
   "metadata": {
    "scrolled": true
   },
   "outputs": [],
   "source": [
    "if 0:\n",
    "    df_selected['textual_infos'] = df_selected['site']\n",
    "    for i in df_selected.index:\n",
    "        if (df_selected['textual_infos'][i]==\"\"):\n",
    "            location = str(df_selected['lat'][i])+\",\"+str(df_selected['lng'][i])\n",
    "            geolocator = Nominatim()\n",
    "            geolocation = geolocator.reverse(location)\n",
    "            df_selected['textual_infos'][i] = geolocation.address"
   ]
  },
  {
   "cell_type": "code",
   "execution_count": 27,
   "metadata": {
    "scrolled": true
   },
   "outputs": [
    {
     "data": {
      "text/html": [
       "<div>\n",
       "<style>\n",
       "    .dataframe thead tr:only-child th {\n",
       "        text-align: right;\n",
       "    }\n",
       "\n",
       "    .dataframe thead th {\n",
       "        text-align: left;\n",
       "    }\n",
       "\n",
       "    .dataframe tbody tr th {\n",
       "        vertical-align: top;\n",
       "    }\n",
       "</style>\n",
       "<table border=\"1\" class=\"dataframe\">\n",
       "  <thead>\n",
       "    <tr style=\"text-align: right;\">\n",
       "      <th></th>\n",
       "      <th>magnitude</th>\n",
       "      <th>country</th>\n",
       "      <th>date</th>\n",
       "      <th>name</th>\n",
       "      <th>site</th>\n",
       "      <th>type</th>\n",
       "      <th>lat</th>\n",
       "      <th>lng</th>\n",
       "    </tr>\n",
       "  </thead>\n",
       "  <tbody>\n",
       "    <tr>\n",
       "      <th>0</th>\n",
       "      <td>4.9</td>\n",
       "      <td>CHN</td>\n",
       "      <td>29/07/1996</td>\n",
       "      <td>-</td>\n",
       "      <td>Lop Nor</td>\n",
       "      <td>Underground</td>\n",
       "      <td>41.82</td>\n",
       "      <td>88.42</td>\n",
       "    </tr>\n",
       "    <tr>\n",
       "      <th>1</th>\n",
       "      <td>5.9</td>\n",
       "      <td>CHN</td>\n",
       "      <td>08/06/1996</td>\n",
       "      <td>-</td>\n",
       "      <td>Lop Nor</td>\n",
       "      <td>Underground</td>\n",
       "      <td>41.66</td>\n",
       "      <td>88.69</td>\n",
       "    </tr>\n",
       "    <tr>\n",
       "      <th>2</th>\n",
       "      <td>6</td>\n",
       "      <td>CHN</td>\n",
       "      <td>17/08/1995</td>\n",
       "      <td>-</td>\n",
       "      <td>Lop Nor</td>\n",
       "      <td>Underground</td>\n",
       "      <td>41.56</td>\n",
       "      <td>88.8</td>\n",
       "    </tr>\n",
       "    <tr>\n",
       "      <th>3</th>\n",
       "      <td>6.1</td>\n",
       "      <td>CHN</td>\n",
       "      <td>15/05/1995</td>\n",
       "      <td>-</td>\n",
       "      <td>Lop Nor</td>\n",
       "      <td>Underground</td>\n",
       "      <td>41.6</td>\n",
       "      <td>88.82</td>\n",
       "    </tr>\n",
       "    <tr>\n",
       "      <th>4</th>\n",
       "      <td>6</td>\n",
       "      <td>CHN</td>\n",
       "      <td>07/10/1994</td>\n",
       "      <td>-</td>\n",
       "      <td>Lop Nor</td>\n",
       "      <td>Underground</td>\n",
       "      <td>41.66</td>\n",
       "      <td>88.75</td>\n",
       "    </tr>\n",
       "  </tbody>\n",
       "</table>\n",
       "</div>"
      ],
      "text/plain": [
       "  magnitude country        date name     site         type    lat    lng\n",
       "0       4.9     CHN  29/07/1996    -  Lop Nor  Underground  41.82  88.42\n",
       "1       5.9     CHN  08/06/1996    -  Lop Nor  Underground  41.66  88.69\n",
       "2         6     CHN  17/08/1995    -  Lop Nor  Underground  41.56   88.8\n",
       "3       6.1     CHN  15/05/1995    -  Lop Nor  Underground   41.6  88.82\n",
       "4         6     CHN  07/10/1994    -  Lop Nor  Underground  41.66  88.75"
      ]
     },
     "execution_count": 27,
     "metadata": {},
     "output_type": "execute_result"
    }
   ],
   "source": [
    "df_selected.head()"
   ]
  },
  {
   "cell_type": "code",
   "execution_count": 28,
   "metadata": {
    "collapsed": true
   },
   "outputs": [],
   "source": [
    "if 0:\n",
    "    results = {}\n",
    "    for key, df_gb in df.iterrows():\n",
    "        results[str(key)] = df_gb.to_dict()\n",
    "    import json\n",
    "    with open('MapTimeline/data/nuclear_test_cleaned.json', 'w') as outfile:\n",
    "        json.dump(results, outfile, indent=4)"
   ]
  },
  {
   "cell_type": "markdown",
   "metadata": {},
   "source": [
    "Get the min and max value for the date, to use it for our slider"
   ]
  },
  {
   "cell_type": "code",
   "execution_count": 29,
   "metadata": {
    "collapsed": true
   },
   "outputs": [],
   "source": [
    "df_selected['datetime'] = pd.to_datetime(df_selected['date'])"
   ]
  },
  {
   "cell_type": "code",
   "execution_count": 30,
   "metadata": {},
   "outputs": [
    {
     "data": {
      "text/plain": [
       "Timestamp('1945-05-08 00:00:00')"
      ]
     },
     "execution_count": 30,
     "metadata": {},
     "output_type": "execute_result"
    }
   ],
   "source": [
    "min(df_selected.datetime)"
   ]
  },
  {
   "cell_type": "code",
   "execution_count": 31,
   "metadata": {
    "scrolled": true
   },
   "outputs": [
    {
     "data": {
      "text/plain": [
       "Timestamp('2006-09-10 00:00:00')"
      ]
     },
     "execution_count": 31,
     "metadata": {},
     "output_type": "execute_result"
    }
   ],
   "source": [
    "max(df_selected.datetime)"
   ]
  },
  {
   "cell_type": "code",
   "execution_count": 32,
   "metadata": {
    "collapsed": true
   },
   "outputs": [],
   "source": [
    "df_selected.drop('datetime', axis=1, inplace=True)"
   ]
  },
  {
   "cell_type": "markdown",
   "metadata": {},
   "source": [
    "We want to use the magnitude to show the tests on the map, so we fill the na in this column with the mean"
   ]
  },
  {
   "cell_type": "code",
   "execution_count": 33,
   "metadata": {
    "collapsed": true
   },
   "outputs": [],
   "source": [
    "df_selected['magnitude'] = pd.to_numeric(df_selected['magnitude'])"
   ]
  },
  {
   "cell_type": "code",
   "execution_count": 34,
   "metadata": {
    "collapsed": true
   },
   "outputs": [],
   "source": [
    "mean_magnitude = (float)('%.1f'%df_selected['magnitude'].mean())"
   ]
  },
  {
   "cell_type": "code",
   "execution_count": 35,
   "metadata": {
    "collapsed": true
   },
   "outputs": [],
   "source": [
    "df_selected['magnitude'].fillna(mean_magnitude, inplace=True)"
   ]
  },
  {
   "cell_type": "markdown",
   "metadata": {},
   "source": [
    "We want to show what countries are represented on our map (such that we can find their flags for the viz)"
   ]
  },
  {
   "cell_type": "code",
   "execution_count": 36,
   "metadata": {},
   "outputs": [
    {
     "data": {
      "text/plain": [
       "array(['CHN', 'FRA', 'IND', 'PAK', 'NK', 'SOV', 'GBR', 'USA', 'UNK'], dtype=object)"
      ]
     },
     "execution_count": 36,
     "metadata": {},
     "output_type": "execute_result"
    }
   ],
   "source": [
    "df_selected.country.unique()"
   ]
  },
  {
   "cell_type": "markdown",
   "metadata": {},
   "source": [
    "## Fixing Nevada Test Site location\n",
    "\n",
    "After playing with our visualization we discovered strange data points (near Korea) being some USA tests. We were wondering what were these tests and we discovered that the site of these point was \"Nevada Test Site\".\n",
    "\n",
    "In the original data scrapped we saw that \"Nevada Test Site\" add a bad location (lat:37, long:116) while the real position of this site is at around (lat:37, long:-116).\n",
    "\n",
    "We decided to correct it here"
   ]
  },
  {
   "cell_type": "code",
   "execution_count": 37,
   "metadata": {},
   "outputs": [],
   "source": [
    "longNev = df_selected[df_selected['site']=='Nevada Test Site'].mode()['lng'][0]"
   ]
  },
  {
   "cell_type": "code",
   "execution_count": 38,
   "metadata": {},
   "outputs": [],
   "source": [
    "df_selected.loc[df_selected['site']=='Nevada Test Site', 'lng'] = '-' + longNev"
   ]
  },
  {
   "cell_type": "code",
   "execution_count": 39,
   "metadata": {
    "collapsed": true
   },
   "outputs": [],
   "source": [
    "df_selected.to_csv(\"nuclear_test.tsv\", sep='\\t')"
   ]
  },
  {
   "cell_type": "code",
   "execution_count": null,
   "metadata": {
    "collapsed": true
   },
   "outputs": [],
   "source": []
  }
 ],
 "metadata": {
  "kernelspec": {
   "display_name": "Python 3",
   "language": "python",
   "name": "python3"
  },
  "language_info": {
   "codemirror_mode": {
    "name": "ipython",
    "version": 3
   },
   "file_extension": ".py",
   "mimetype": "text/x-python",
   "name": "python",
   "nbconvert_exporter": "python",
   "pygments_lexer": "ipython3",
   "version": "3.6.2"
  }
 },
 "nbformat": 4,
 "nbformat_minor": 2
}
