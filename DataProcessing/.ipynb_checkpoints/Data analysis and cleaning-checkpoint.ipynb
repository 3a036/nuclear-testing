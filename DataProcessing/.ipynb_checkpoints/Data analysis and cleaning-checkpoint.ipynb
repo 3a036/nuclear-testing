{
 "cells": [
  {
   "cell_type": "code",
   "execution_count": 1,
   "metadata": {
    "collapsed": true
   },
   "outputs": [],
   "source": [
    "import pandas as pd\n",
    "import json\n",
    "from math import radians, cos, sin, asin, sqrt\n",
    "import math\n",
    "import numpy as np\n",
    "from geopy.geocoders import Nominatim"
   ]
  },
  {
   "cell_type": "code",
   "execution_count": 2,
   "metadata": {},
   "outputs": [
    {
     "ename": "FileNotFoundError",
     "evalue": "[Errno 2] No such file or directory: 'nuclear_tests.json'",
     "output_type": "error",
     "traceback": [
      "\u001b[1;31m---------------------------------------------------------------------------\u001b[0m",
      "\u001b[1;31mFileNotFoundError\u001b[0m                         Traceback (most recent call last)",
      "\u001b[1;32m<ipython-input-2-4310d22341c2>\u001b[0m in \u001b[0;36m<module>\u001b[1;34m()\u001b[0m\n\u001b[0;32m      1\u001b[0m \u001b[1;31m# import the data in a dataframe\u001b[0m\u001b[1;33m\u001b[0m\u001b[1;33m\u001b[0m\u001b[0m\n\u001b[1;32m----> 2\u001b[1;33m \u001b[0mjson_data\u001b[0m\u001b[1;33m=\u001b[0m\u001b[0mopen\u001b[0m\u001b[1;33m(\u001b[0m\u001b[1;34m'nuclear_tests.json'\u001b[0m\u001b[1;33m)\u001b[0m\u001b[1;33m.\u001b[0m\u001b[0mread\u001b[0m\u001b[1;33m(\u001b[0m\u001b[1;33m)\u001b[0m\u001b[1;33m\u001b[0m\u001b[0m\n\u001b[0m\u001b[0;32m      3\u001b[0m \u001b[0mdata\u001b[0m \u001b[1;33m=\u001b[0m \u001b[0mjson\u001b[0m\u001b[1;33m.\u001b[0m\u001b[0mloads\u001b[0m\u001b[1;33m(\u001b[0m\u001b[0mjson_data\u001b[0m\u001b[1;33m)\u001b[0m\u001b[1;33m\u001b[0m\u001b[0m\n\u001b[0;32m      4\u001b[0m \u001b[0mdf\u001b[0m \u001b[1;33m=\u001b[0m \u001b[0mpd\u001b[0m\u001b[1;33m.\u001b[0m\u001b[0mDataFrame\u001b[0m\u001b[1;33m(\u001b[0m\u001b[0mdata\u001b[0m\u001b[1;33m)\u001b[0m\u001b[1;33m\u001b[0m\u001b[0m\n\u001b[0;32m      5\u001b[0m \u001b[0mdf\u001b[0m\u001b[1;33m.\u001b[0m\u001b[0mhead\u001b[0m\u001b[1;33m(\u001b[0m\u001b[1;33m)\u001b[0m\u001b[1;33m\u001b[0m\u001b[0m\n",
      "\u001b[1;31mFileNotFoundError\u001b[0m: [Errno 2] No such file or directory: 'nuclear_tests.json'"
     ]
    }
   ],
   "source": [
    "# import the data in a dataframe\n",
    "json_data=open('nuclear_tests1.json').read()\n",
    "data = json.loads(json_data)\n",
    "df = pd.DataFrame(data)\n",
    "df.head()\n",
    "print(len(df))"
   ]
  },
  {
   "cell_type": "code",
   "execution_count": null,
   "metadata": {},
   "outputs": [],
   "source": [
    "print(str(len(df[pd.isnull(df['decimal latitude/longitude'])])) + ' / ' + str(len(df)) + ' entries do not have coordinates')\n",
    "print(str(len(df[df['site'] == ''])) + ' / ' + str(len(df)) + ' entries do not have a site')\n",
    "distinct_sites = set(df['site'])\n",
    "print('There are ' + str(len(distinct_sites)) + ' distinct sites')"
   ]
  },
  {
   "cell_type": "code",
   "execution_count": null,
   "metadata": {},
   "outputs": [],
   "source": [
    "# Only one entry has neither a site nor coordinates:\n",
    "df[(pd.isnull(df['decimal latitude/longitude'])) & (df['site'] == '')]"
   ]
  },
  {
   "cell_type": "code",
   "execution_count": null,
   "metadata": {
    "collapsed": true
   },
   "outputs": [],
   "source": [
    "# remove null site/location from dataframe\n",
    "df = df[(pd.notnull(df['decimal latitude/longitude'])) | (df['site'] != '')]"
   ]
  },
  {
   "cell_type": "code",
   "execution_count": null,
   "metadata": {
    "collapsed": true
   },
   "outputs": [],
   "source": [
    "# We group the dataframe by sites and export the coordinates of each event in a distinct list for each site\n",
    "# the goal is to see events on a same site can have very different coordinates or not.\n",
    "coord_lists = df.fillna('-').groupby('site')['decimal latitude/longitude'].apply(list)"
   ]
  },
  {
   "cell_type": "code",
   "execution_count": null,
   "metadata": {
    "collapsed": true
   },
   "outputs": [],
   "source": [
    "def haversine(lon1, lat1, lon2, lat2):\n",
    "    \"\"\"\n",
    "    Calculate the great circle distance between two points \n",
    "    on the earth (specified in decimal degrees)\n",
    "    \"\"\"\n",
    "    # convert decimal degrees to radians \n",
    "    lon1, lat1, lon2, lat2 = map(radians, [lon1, lat1, lon2, lat2])\n",
    "\n",
    "    # haversine formula \n",
    "    dlon = lon2 - lon1 \n",
    "    dlat = lat2 - lat1 \n",
    "    a = sin(dlat/2)**2 + cos(lat1) * cos(lat2) * sin(dlon/2)**2\n",
    "    c = 2 * asin(sqrt(a)) \n",
    "    r = 6371 # Radius of earth in kilometers. Use 3956 for miles\n",
    "    return c * r"
   ]
  },
  {
   "cell_type": "code",
   "execution_count": null,
   "metadata": {
    "scrolled": true
   },
   "outputs": [],
   "source": [
    "df[pd.notnull(df['decimal latitude/longitude'])].head()"
   ]
  },
  {
   "cell_type": "code",
   "execution_count": null,
   "metadata": {},
   "outputs": [],
   "source": [
    "no_coord_sites = []\n",
    "coord_sites = dict()\n",
    "for i in range(0, len(coord_lists)):\n",
    "    dists = []\n",
    "    lats = []\n",
    "    longs = []\n",
    "    lat0 = \"\"\n",
    "    long0 = \"\"\n",
    "    print(coord_lists.index[i])\n",
    "    for event in coord_lists[i]:\n",
    "        if('/' in str(event)):\n",
    "            lat0, long0 = event.split('/')\n",
    "            break\n",
    "    if (lat0!=\"\" and long0!=\"\"):\n",
    "        for event in coord_lists[i]:\n",
    "            event = str(event)\n",
    "            if('/' in event):\n",
    "                lat, long = event.split('/')\n",
    "                dists.append(haversine(float(long0), float(lat0), float(long), float(lat)))\n",
    "                lats.append(float(lat))\n",
    "                longs.append(float(long))\n",
    "        \n",
    "        print(np.mean(dists))\n",
    "        meanlat = np.mean(lats)\n",
    "        meanlong = np.mean(longs)\n",
    "        coord_sites[coord_lists.index[i]]=str(meanlat)+\"/\"+str(meanlong)\n",
    "    else:\n",
    "        no_coord_sites.append(coord_lists.index[i])\n",
    "        print(\"No distances\")\n",
    "    print(\"---------\")\n"
   ]
  },
  {
   "cell_type": "code",
   "execution_count": null,
   "metadata": {
    "collapsed": true
   },
   "outputs": [],
   "source": [
    "# As we can see, some events have a site but no location. "
   ]
  },
  {
   "cell_type": "code",
   "execution_count": null,
   "metadata": {
    "collapsed": true
   },
   "outputs": [],
   "source": [
    "#first make a dict site => coords (from geopy)\n",
    "if 0:\n",
    "    geolocator = Nominatim()\n",
    "    geopy_site_coords = dict()\n",
    "    for site in no_coord_sites:\n",
    "        location = geolocator.geocode(site)\n",
    "        if location is not None:\n",
    "            coord = str(location.latitude) + \"/\" + str(location.longitude)\n",
    "            #print(site)\n",
    "            #print(coord)\n",
    "            geopy_site_coords[site] = coord\n",
    "        else:\n",
    "            print(\"coordinates not found for site \" + str(site))"
   ]
  },
  {
   "cell_type": "markdown",
   "metadata": {},
   "source": [
    "Geopy seems to give some buggy response, we do it by hand"
   ]
  },
  {
   "cell_type": "code",
   "execution_count": null,
   "metadata": {},
   "outputs": [],
   "source": [
    "for site in no_coord_sites:\n",
    "    print(site)"
   ]
  },
  {
   "cell_type": "code",
   "execution_count": null,
   "metadata": {
    "collapsed": true
   },
   "outputs": [],
   "source": [
    "if 0:\n",
    "    print(len(no_coord_sites))\n",
    "    print(len(geopy_site_coords))"
   ]
  },
  {
   "cell_type": "code",
   "execution_count": null,
   "metadata": {
    "collapsed": true
   },
   "outputs": [],
   "source": [
    "if 0 :\n",
    "    # For the 3 other position we have to do it by hand (using https://www.latlong.net/)\n",
    "    geopy_site_coords['Carlsnad, New Mexico (USA)']=\"32.420674/-104.228837\"\n",
    "    geopy_site_coords['Emu Fields, Australia']=\"-28.698333/132.371389\"\n",
    "    geopy_site_coords['Nellis Air Force Range']=\"36.308119/-115.049367\""
   ]
  },
  {
   "cell_type": "code",
   "execution_count": null,
   "metadata": {
    "collapsed": true
   },
   "outputs": [],
   "source": [
    "#we have to do it by hand (using https://www.latlong.net/)\n",
    "hand_site_coords = dict()\n",
    "hand_site_coords['Carlsnad, New Mexico (USA)']=\"32.420674/-104.228837\"\n",
    "hand_site_coords['Central Nevada']=\"38.060229/-117.220892\"\n",
    "hand_site_coords['Christmas Island']=\"-10.447525/105.690449\"\n",
    "hand_site_coords['Christmas Island (USA)']=\"-10.451208/105.688545\"\n",
    "hand_site_coords['Emu Fields, Australia']=\"-28.698333/132.371389\"\n",
    "hand_site_coords['Fallon, Nevada']=\"39.474869/-118.777041\"\n",
    "hand_site_coords['Farmington, New Mexico']=\"36.728058/-108.218686\"\n",
    "hand_site_coords['Grand Valley, Colorado']=\"40.072738/-106.064018\"\n",
    "hand_site_coords['Hattiesburg, Mississippi']=\"31.327119/-89.290339\"\n",
    "hand_site_coords['Johnston Island']=\"16.729503/-169.533648\"\n",
    "hand_site_coords['Maralinga']=\"-30.163170/131.575195\"\n",
    "hand_site_coords['Monte Bello Is']=\"-20.439168/115.556260\"\n",
    "hand_site_coords['NTS']=\"37.116449/-116.188871\"\n",
    "hand_site_coords['Nellis Air Force Range']=\"36.308119/-115.049367\"\n",
    "hand_site_coords['New Mexico (USA)']=\"34.519940/-105.870090\"\n",
    "hand_site_coords['Reggan,Algeria']=\"25.275963/-1.520862\"\n",
    "hand_site_coords['Rifle, Colorado']=\"39.534702/-107.783120\"\n",
    "hand_site_coords['South Atlantic']=\"-47/40\"\n",
    "hand_site_coords['Tuamotu Archipelago']=\"-19.000000/-142.000000\"\n",
    "hand_site_coords['Nellis Air Force Range']=\"36.308119/-115.049367\""
   ]
  },
  {
   "cell_type": "code",
   "execution_count": null,
   "metadata": {
    "collapsed": true
   },
   "outputs": [],
   "source": [
    "for i in df.index:\n",
    "    if('/' not in str(df['decimal latitude/longitude'][i])):\n",
    "        if (df['site'][i] in hand_site_coords.keys()):\n",
    "            df['decimal latitude/longitude'][i] = hand_site_coords[df['site'][i]]"
   ]
  },
  {
   "cell_type": "code",
   "execution_count": null,
   "metadata": {},
   "outputs": [],
   "source": [
    "print(str(len(df[pd.isnull(df['decimal latitude/longitude'])])) + ' / ' + str(len(df)) + ' entries do not have coordinates')"
   ]
  },
  {
   "cell_type": "code",
   "execution_count": null,
   "metadata": {},
   "outputs": [],
   "source": [
    "df[pd.isnull(df['decimal latitude/longitude'])].head()"
   ]
  },
  {
   "cell_type": "code",
   "execution_count": null,
   "metadata": {
    "collapsed": true
   },
   "outputs": [],
   "source": [
    "# Now we need to use the informations we get for each site in our data and use it to extrapolate the location of the \n",
    "for i in df.index:\n",
    "    if('/' not in str(df['decimal latitude/longitude'][i])):\n",
    "        if (df['site'][i] in coord_sites.keys()):\n",
    "            df['decimal latitude/longitude'][i] = coord_sites[df['site'][i]]"
   ]
  },
  {
   "cell_type": "code",
   "execution_count": null,
   "metadata": {},
   "outputs": [],
   "source": [
    "print(str(len(df[pd.isnull(df['decimal latitude/longitude'])])) + ' / ' + str(len(df)) + ' entries do not have coordinates')"
   ]
  },
  {
   "cell_type": "code",
   "execution_count": null,
   "metadata": {},
   "outputs": [],
   "source": [
    "# We now have coordinates for every item in our dataframe\n",
    "df[pd.isnull(df['decimal latitude/longitude'])].head()"
   ]
  },
  {
   "cell_type": "code",
   "execution_count": null,
   "metadata": {
    "collapsed": true
   },
   "outputs": [],
   "source": [
    "df_selected = df[['body wave magnitude', 'country', 'date', 'decimal latitude/longitude', 'name', 'site', 'type']]"
   ]
  },
  {
   "cell_type": "code",
   "execution_count": null,
   "metadata": {},
   "outputs": [],
   "source": [
    "df_selected['lat'], df_selected['lng'] = df['decimal latitude/longitude'].str.split('/', 1).str"
   ]
  },
  {
   "cell_type": "code",
   "execution_count": null,
   "metadata": {
    "collapsed": true
   },
   "outputs": [],
   "source": [
    "df_selected.drop('decimal latitude/longitude', axis=1, inplace=True)"
   ]
  },
  {
   "cell_type": "code",
   "execution_count": null,
   "metadata": {
    "collapsed": true
   },
   "outputs": [],
   "source": [
    "df_selected.columns = ['magnitude', 'country', 'date', 'name', 'site', 'type', 'lat','lng']"
   ]
  },
  {
   "cell_type": "code",
   "execution_count": null,
   "metadata": {
    "scrolled": true
   },
   "outputs": [],
   "source": [
    "df_selected['textual_infos'] = df_selected['site']\n",
    "for i in df_selected.index:\n",
    "    if (df_selected['textual_infos'][i]==\"\"):\n",
    "        location = str(df_selected['lat'][i])+\",\"+str(df_selected['lng'][i])\n",
    "        geolocator = Nominatim()\n",
    "        geolocation = geolocator.reverse(location)\n",
    "        df_selected['textual_infos'][i] = geolocation.address"
   ]
  },
  {
   "cell_type": "code",
   "execution_count": null,
   "metadata": {
    "scrolled": true
   },
   "outputs": [],
   "source": [
    "df_selected.head()"
   ]
  },
  {
   "cell_type": "code",
   "execution_count": null,
   "metadata": {
    "collapsed": true
   },
   "outputs": [],
   "source": [
    "if 0:\n",
    "    results = {}\n",
    "    for key, df_gb in df.iterrows():\n",
    "        results[str(key)] = df_gb.to_dict()\n",
    "    import json\n",
    "    with open('MapTimeline/data/nuclear_test_cleaned.json', 'w') as outfile:\n",
    "        json.dump(results, outfile, indent=4)"
   ]
  },
  {
   "cell_type": "markdown",
   "metadata": {},
   "source": [
    "Get the min and max value for the date, to use it for our slider"
   ]
  },
  {
   "cell_type": "code",
   "execution_count": null,
   "metadata": {},
   "outputs": [],
   "source": [
    "df_selected['datetime'] = pd.to_datetime(df_selected['date'])\n",
    "df_selected['magnitude'] = pd.to_numeric(df_selected['magnitude'])"
   ]
  },
  {
   "cell_type": "code",
   "execution_count": null,
   "metadata": {},
   "outputs": [],
   "source": [
    "min(df_selected.datetime)"
   ]
  },
  {
   "cell_type": "code",
   "execution_count": null,
   "metadata": {},
   "outputs": [],
   "source": [
    "max(df_selected.datetime)"
   ]
  },
  {
   "cell_type": "markdown",
   "metadata": {},
   "source": [
    "We want to use the magnitude to show the tests on the map, so we fill the na in this column with the mean"
   ]
  },
  {
   "cell_type": "code",
   "execution_count": null,
   "metadata": {},
   "outputs": [],
   "source": [
    "(float)('%.2f'%df_selected['magnitude'].mean())"
   ]
  },
  {
   "cell_type": "code",
   "execution_count": null,
   "metadata": {
    "collapsed": true
   },
   "outputs": [],
   "source": [
    "df_selected['magnitude'].fillna((float)('%.2f'%df_selected['magnitude'].mean()), inplace=True)"
   ]
  },
  {
   "cell_type": "code",
   "execution_count": null,
   "metadata": {},
   "outputs": [],
   "source": [
    "df_selected['magnitude'] = pd.to_numeric(df_selected['magnitude'])"
   ]
  },
  {
   "cell_type": "code",
   "execution_count": null,
   "metadata": {
    "collapsed": true
   },
   "outputs": [],
   "source": [
    "df_selected.to_csv(\"nuclear_test.tsv\", sep='\\t')"
   ]
  },
  {
   "cell_type": "code",
   "execution_count": null,
   "metadata": {
    "collapsed": true
   },
   "outputs": [],
   "source": []
  }
 ],
 "metadata": {
  "kernelspec": {
   "display_name": "Python 3",
   "language": "python",
   "name": "python3"
  },
  "language_info": {
   "codemirror_mode": {
    "name": "ipython",
    "version": 3
   },
   "file_extension": ".py",
   "mimetype": "text/x-python",
   "name": "python",
   "nbconvert_exporter": "python",
   "pygments_lexer": "ipython3",
   "version": "3.6.2"
  }
 },
 "nbformat": 4,
 "nbformat_minor": 2
}
