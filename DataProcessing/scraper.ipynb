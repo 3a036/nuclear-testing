{
 "cells": [
  {
   "cell_type": "code",
   "execution_count": 1,
   "metadata": {
    "collapsed": true
   },
   "outputs": [],
   "source": [
    "import requests\n",
    "from lxml import html"
   ]
  },
  {
   "cell_type": "code",
   "execution_count": 6,
   "metadata": {},
   "outputs": [],
   "source": [
    "DATABASE_URL = \"http://www.ga.gov.au/oracle/nuclear-explosion-query.jsp\"\n",
    "\n",
    "COUNTRIES = [\n",
    "    \"CHN\",\n",
    "    \"FRA\",\n",
    "    \"IND\",\n",
    "    \"PAK\",\n",
    "    \"NK\",\n",
    "    \"SOV\",\n",
    "    \"GBR\",\n",
    "    \"USA\",\n",
    "    \"UNK\"\n",
    "]\n",
    "\n",
    "tests = []\n",
    "\n",
    "for country in COUNTRIES:\n",
    "    response = requests.post(DATABASE_URL, {'testby': country, 'start_date': 1945, 'end_date': 2007})\n",
    "    tree = html.fromstring(response.content.decode(\"utf-8\"))\n",
    "    \n",
    "    # One li per test\n",
    "    for li in tree.cssselect('ol li'):\n",
    "        test = {'country': country}\n",
    "        for line in li.xpath('text()'):\n",
    "            if \":\" not in line:\n",
    "                field_name = \"date\"\n",
    "                field_value = line\n",
    "            else:\n",
    "                field_name, field_value = [x.strip() for x in line.split(\":\", maxsplit=1)]\n",
    "            test[field_name.lower()] = \" \".join(field_value.split())  # split-join to remove extra whitespace\n",
    "        \n",
    "        tests.append(test)"
   ]
  },
  {
   "cell_type": "code",
   "execution_count": 7,
   "metadata": {},
   "outputs": [
    {
     "data": {
      "text/plain": [
       "36"
      ]
     },
     "execution_count": 7,
     "metadata": {},
     "output_type": "execute_result"
    }
   ],
   "source": [
    "len(tests)"
   ]
  },
  {
   "cell_type": "code",
   "execution_count": 11,
   "metadata": {},
   "outputs": [
    {
     "ename": "IndexError",
     "evalue": "list index out of range",
     "output_type": "error",
     "traceback": [
      "\u001b[1;31m---------------------------------------------------------------------------\u001b[0m",
      "\u001b[1;31mIndexError\u001b[0m                                Traceback (most recent call last)",
      "\u001b[1;32m<ipython-input-11-714b3b0d7537>\u001b[0m in \u001b[0;36m<module>\u001b[1;34m()\u001b[0m\n\u001b[1;32m----> 1\u001b[1;33m \u001b[0mtests\u001b[0m\u001b[1;33m[\u001b[0m\u001b[1;36m100\u001b[0m\u001b[1;33m]\u001b[0m\u001b[1;33m\u001b[0m\u001b[0m\n\u001b[0m",
      "\u001b[1;31mIndexError\u001b[0m: list index out of range"
     ]
    }
   ],
   "source": [
    "tests[100]"
   ]
  },
  {
   "cell_type": "code",
   "execution_count": null,
   "metadata": {
    "collapsed": true
   },
   "outputs": [],
   "source": [
    "import json\n",
    "json.dump(tests, open(\"nuclear_tests.json\", \"w\"))"
   ]
  },
  {
   "cell_type": "code",
   "execution_count": null,
   "metadata": {
    "collapsed": true
   },
   "outputs": [],
   "source": []
  }
 ],
 "metadata": {
  "kernelspec": {
   "display_name": "Python 3",
   "language": "python",
   "name": "python3"
  },
  "language_info": {
   "codemirror_mode": {
    "name": "ipython",
    "version": 3
   },
   "file_extension": ".py",
   "mimetype": "text/x-python",
   "name": "python",
   "nbconvert_exporter": "python",
   "pygments_lexer": "ipython3",
   "version": "3.6.2"
  }
 },
 "nbformat": 4,
 "nbformat_minor": 2
}
